{
  "nbformat": 4,
  "nbformat_minor": 0,
  "metadata": {
    "colab": {
      "name": "main.ipynb",
      "provenance": [],
      "collapsed_sections": []
    },
    "kernelspec": {
      "display_name": "Python 3",
      "language": "python",
      "name": "python3"
    },
    "language_info": {
      "codemirror_mode": {
        "name": "ipython",
        "version": 3
      },
      "file_extension": ".py",
      "mimetype": "text/x-python",
      "name": "python",
      "nbconvert_exporter": "python",
      "pygments_lexer": "ipython3",
      "version": "3.7.6"
    },
    "pycharm": {
      "stem_cell": {
        "cell_type": "raw",
        "source": [],
        "metadata": {
          "collapsed": false
        }
      }
    }
  },
  "cells": [
    {
      "cell_type": "markdown",
      "metadata": {
        "id": "uTv0D26B9W2h"
      },
      "source": [
        "# Assignment 1"
      ]
    },
    {
      "cell_type": "markdown",
      "metadata": {
        "id": "O9VX-OHxC1FM"
      },
      "source": [
        "## Initialization"
      ]
    },
    {
      "cell_type": "code",
      "metadata": {
        "cellView": "form",
        "id": "qFHMMDtSwuW4"
      },
      "source": [
        "#@title Mount your Google Drive\n",
        "%matplotlib inline\n",
        "%load_ext autoreload\n",
        "%autoreload 2\n",
        "\n",
        "from google.colab import drive\n",
        "drive.mount('/content/gdrive')"
      ],
      "execution_count": null,
      "outputs": []
    },
    {
      "cell_type": "code",
      "metadata": {
        "cellView": "form",
        "id": "oODLwt1QzgGa"
      },
      "source": [
        "#@title Link your assignment folder & install requirements\n",
        "#@markdown Enter the path to the assignment folder in your Google Drive\n",
        "import sys\n",
        "import os\n",
        "import shutil\n",
        "import warnings\n",
        "\n",
        "folder = \"\" #@param {type:\"string\"}\n",
        "!ln -Ts $folder /content/assignment 2> /dev/null\n",
        "\n",
        "# Add the assignment folder to Python path\n",
        "if '/content/assignment' not in sys.path:\n",
        "  sys.path.insert(0, '/content/assignment')\n",
        "\n",
        "# Install requirements\n",
        "!pip install -qr /content/assignment/requirements.txt\n",
        "\n",
        "# Create a solution.py file if it doesn't exist\n",
        "solution_path = '/content/assignment/solution.py'\n",
        "solution_template_path = '/content/assignment/solution_template.py'\n",
        "if not os.path.isfile(solution_path):\n",
        "  if not os.path.isfile(solution_template_path):\n",
        "    raise IOError('Unable to find the solution template \"solution_template.py\". '\n",
        "                  'Make sure this file exists in your assignment folder.')\n",
        "  shutil.copyfile(solution_template_path, solution_path)\n",
        "\n",
        "# Check if CUDA is available\n",
        "import torch\n",
        "if not torch.cuda.is_available():\n",
        "  warnings.warn('CUDA is not available.')"
      ],
      "execution_count": null,
      "outputs": []
    },
    {
      "cell_type": "markdown",
      "metadata": {
        "collapsed": false,
        "id": "dt3NTvpsy4Oc"
      },
      "source": [
        "## Running on GPU\n",
        "In Google Colab, you can run your code on GPU. This will be particularly important in CNN part of the assignment. To make sure the notebook is running on GPU, you can change the notebook settings with\n",
        "* (EN) `Edit > Notebook Settings`\n",
        "* (FR) `Modifier > Paramètres du notebook`\n",
        "\n",
        "Be mindful not to use the GPU if your code does not need to run on GPU.\n",
        "\n",
        "Of course, your code written in NumPy (e.g. your `solution.py`) cannot be ran on GPU, only your code written in PyTorch can."
      ]
    },
    {
      "cell_type": "markdown",
      "metadata": {
        "id": "a2SPOy6yCU_S"
      },
      "source": [
        "## Data utilities (do not modify)"
      ]
    },
    {
      "cell_type": "code",
      "metadata": {
        "id": "xC-KePrx_J0L"
      },
      "source": [
        "from solution import load_cifar10\n",
        "data = load_cifar10('/tmp/data', flatten=True)  # can use flatten=False to get the image shape.\n",
        "train_data, valid_data, test_data = data\n",
        "image, label = train_data[0][0], train_data[1][0]\n",
        "image.shape"
      ],
      "execution_count": null,
      "outputs": []
    },
    {
      "cell_type": "markdown",
      "metadata": {
        "id": "hZqQ4QbYy4On"
      },
      "source": [
        "## Load the `NN` class from your `solution.py`."
      ]
    },
    {
      "cell_type": "code",
      "metadata": {
        "pycharm": {
          "name": "#%%\n"
        },
        "id": "x3cKQ4qny4Oq"
      },
      "source": [
        "from solution import NN\n",
        "import time\n",
        "nn = NN(data=data)\n",
        "start = time.time()\n",
        "logs = nn.train_loop(2)\n",
        "print(time.time()-start)\n",
        "print(nn.evaluate())"
      ],
      "execution_count": null,
      "outputs": []
    }
  ]
}